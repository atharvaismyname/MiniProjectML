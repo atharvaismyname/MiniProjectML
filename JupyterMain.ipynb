{
 "cells": [
  {
   "cell_type": "code",
   "execution_count": 16,
   "id": "4464fa9a-eae8-4040-8cc6-efd9aa040a2a",
   "metadata": {},
   "outputs": [],
   "source": [
    "import numpy as np\n",
    "import pandas as pd\n",
    "from sklearn.model_selection import train_test_split\n",
    "from sklearn.ensemble import RandomForestClassifier\n",
    "from sklearn.metrics import accuracy_score, precision_score, recall_score  \n",
    "from joblib import dump"
   ]
  },
  {
   "cell_type": "code",
   "execution_count": 17,
   "id": "927c1d47-38b0-4796-af03-b1e5acef1716",
   "metadata": {},
   "outputs": [],
   "source": [
    "# Load the dataset\n",
    "df = pd.read_csv(\"survey_lung_cancer.csv\")"
   ]
  },
  {
   "cell_type": "code",
   "execution_count": 18,
   "id": "974225e8-8297-4150-b8e7-1990855d3bb8",
   "metadata": {},
   "outputs": [],
   "source": [
    "# Create a copy of the dataframe\n",
    "df_copy = df.copy()"
   ]
  },
  {
   "cell_type": "code",
   "execution_count": 19,
   "id": "9885edb1-d25a-4664-8562-1f509dab910c",
   "metadata": {},
   "outputs": [],
   "source": [
    "# Encode categorical columns using LabelEncoder\n",
    "from sklearn import preprocessing\n",
    "le = preprocessing.LabelEncoder()"
   ]
  },
  {
   "cell_type": "code",
   "execution_count": 20,
   "id": "16d724d2-192b-4031-b28a-c5a3328f27cc",
   "metadata": {},
   "outputs": [],
   "source": [
    "# Drop columns that are not needed for prediction\n",
    "df_copy = df_copy.drop([\"SMOKING\", \"YELLOW_FINGERS\", \"ANXIETY\", \"PEER_PRESSURE\", \"CHRONIC DISEASE\", \"WHEEZING\", \"ALCOHOL CONSUMING\", \"COUGHING\", \"SHORTNESS OF BREATH\", \"SWALLOWING DIFFICULTY\", \"CHEST PAIN\", \"LUNG_CANCER\"], axis=\"columns\")"
   ]
  },
  {
   "cell_type": "code",
   "execution_count": 21,
   "id": "8dc008c9-ff12-43a3-b3d8-dd03386d7598",
   "metadata": {},
   "outputs": [],
   "source": [
    "# Encode remaining categorical columns\n",
    "df_copy[\"FATIGUE \"] = le.fit_transform(df[\"FATIGUE \"])\n",
    "df_copy[\"ALLERGY \"] = le.fit_transform(df[\"ALLERGY \"])\n",
    "df_copy[\"SMOKING\"] = le.fit_transform(df[\"SMOKING\"])\n",
    "df_copy[\"YELLOW_FINGERS\"] = le.fit_transform(df[\"YELLOW_FINGERS\"])\n",
    "df_copy[\"CHRONIC DISEASE\"] = le.fit_transform(df[\"CHRONIC DISEASE\"])\n",
    "df_copy[\"ALCOHOL CONSUMING\"] = le.fit_transform(df[\"ALCOHOL CONSUMING\"])\n",
    "df_copy[\"COUGHING\"] = le.fit_transform(df[\"COUGHING\"])\n",
    "df_copy[\"SHORTNESS OF BREATH\"] = le.fit_transform(df[\"SHORTNESS OF BREATH\"])\n",
    "df_copy[\"SWALLOWING DIFFICULTY\"] = le.fit_transform(df[\"SWALLOWING DIFFICULTY\"])\n",
    "df_copy[\"CHEST PAIN\"] = le.fit_transform(df[\"CHEST PAIN\"])\n",
    "df_copy[\"WHEEZING\"] = le.fit_transform(df[\"WHEEZING\"])\n",
    "df_copy[\"PEER_PRESSURE\"] = le.fit_transform(df[\"PEER_PRESSURE\"])\n",
    "df_copy[\"ANXIETY\"] = le.fit_transform(df[\"ANXIETY\"])\n",
    "df_copy[\"GENDER\"] = le.fit_transform(df[\"GENDER\"])"
   ]
  },
  {
   "cell_type": "code",
   "execution_count": 22,
   "id": "95f9110c-6732-4a5c-a764-498d0baae4db",
   "metadata": {},
   "outputs": [],
   "source": [
    "target = le.fit_transform(df[\"LUNG_CANCER\"])"
   ]
  },
  {
   "cell_type": "code",
   "execution_count": 23,
   "id": "c2587c1c-6648-425d-9960-aa5d53b5913b",
   "metadata": {},
   "outputs": [],
   "source": [
    "# Fill missing values in the AGE column with the mean value\n",
    "avg = df_copy[\"AGE\"].mean()\n",
    "df_copy[\"AGE\"].fillna(avg, inplace=True)"
   ]
  },
  {
   "cell_type": "code",
   "execution_count": 24,
   "id": "f8742bbd-288f-4744-8159-5fa3408eff3c",
   "metadata": {},
   "outputs": [],
   "source": [
    "df_copy[\"AGE\"] = np.where(df_copy[\"AGE\"].between(0, 30), 0, df_copy[\"AGE\"])\n",
    "df_copy[\"AGE\"] = np.where(df_copy[\"AGE\"].between(30, 60), 1, df_copy[\"AGE\"])\n",
    "df_copy[\"AGE\"] = np.where(df_copy[\"AGE\"].between(60, 90), 2, df_copy[\"AGE\"])\n"
   ]
  },
  {
   "cell_type": "code",
   "execution_count": 25,
   "id": "d839fc75-bd40-4b10-9f0a-5a5f457ce920",
   "metadata": {},
   "outputs": [],
   "source": [
    "#input_features = [GENDER, AGE, FATIGUE, ALLERGY, SMOKING, YELLOW_FINGERS, CHRONIC_DISEASE, ALCOHOL_CONSUMING, COUGHING, SHORTNESS_OF_BREATH, SWALLOWING_DIFFICULTY, CHEST_PAIN, WHEEZING, PEER_PRESSURE, ANXIETY]"
   ]
  },
  {
   "cell_type": "code",
   "execution_count": 26,
   "id": "4329f46b-294c-4389-8a89-dc4dea001b19",
   "metadata": {},
   "outputs": [],
   "source": [
    "x = df_copy\n",
    "y = target\n",
    "x_train, x_test, y_train, y_test = train_test_split(x, y, test_size=0.25, random_state=42)\n"
   ]
  },
  {
   "cell_type": "code",
   "execution_count": 27,
   "id": "1765033c-47af-48ea-812d-6ca1670c6013",
   "metadata": {},
   "outputs": [],
   "source": [
    "random_forest_model = RandomForestClassifier(n_estimators=50)\n",
    "random_forest_model.fit(x_train, y_train)\n",
    "y_pred = random_forest_model.predict(x_test)\n",
    "\n"
   ]
  },
  {
   "cell_type": "code",
   "execution_count": 28,
   "id": "fc004384-734a-4e68-b372-8e2f760a93c6",
   "metadata": {},
   "outputs": [
    {
     "name": "stdout",
     "output_type": "stream",
     "text": [
      "Accuracy: 0.9743589743589743\n",
      "Precision: 0.9863013698630136\n",
      "Recall: 0.9863013698630136\n"
     ]
    }
   ],
   "source": [
    "accuracy = accuracy_score(y_test, y_pred)\n",
    "precision = precision_score(y_test, y_pred)\n",
    "recall = recall_score(y_test, y_pred)\n",
    "\n",
    "print(\"Accuracy:\", accuracy)\n",
    "print(\"Precision:\", precision)\n",
    "print(\"Recall:\", recall)"
   ]
  },
  {
   "cell_type": "code",
   "execution_count": 29,
   "id": "2743b31c-5057-41ca-a760-bc3539e97c1a",
   "metadata": {},
   "outputs": [
    {
     "data": {
      "text/plain": [
       "['random_forest_modelnew.joblib']"
      ]
     },
     "execution_count": 29,
     "metadata": {},
     "output_type": "execute_result"
    }
   ],
   "source": [
    "dump(random_forest_model, 'random_forest_modelnew.joblib')"
   ]
  },
  {
   "cell_type": "code",
   "execution_count": null,
   "id": "4fadd242-83a9-4a0c-a922-9decaa4d19df",
   "metadata": {},
   "outputs": [],
   "source": []
  },
  {
   "cell_type": "code",
   "execution_count": 30,
   "id": "b7cdfb50-13bc-45bb-a3e4-4defd33e3df9",
   "metadata": {},
   "outputs": [],
   "source": [
    "#output = random_forest_model.predict([input_features])"
   ]
  },
  {
   "cell_type": "code",
   "execution_count": null,
   "id": "544d971e-5334-497b-ad83-a23f3ce844f6",
   "metadata": {},
   "outputs": [],
   "source": []
  },
  {
   "cell_type": "code",
   "execution_count": null,
   "id": "8953f31c-b95d-441e-bc70-944eb0d55f5b",
   "metadata": {},
   "outputs": [],
   "source": [
    "\n"
   ]
  },
  {
   "cell_type": "code",
   "execution_count": null,
   "id": "b2f4f18e-612c-4a1e-a4c8-7d3211b36239",
   "metadata": {},
   "outputs": [],
   "source": []
  },
  {
   "cell_type": "code",
   "execution_count": null,
   "id": "6497f0c6-d893-430a-aff6-396aa8013e6f",
   "metadata": {},
   "outputs": [],
   "source": []
  },
  {
   "cell_type": "code",
   "execution_count": null,
   "id": "b61bdef7-0632-4784-ba22-96454868f210",
   "metadata": {},
   "outputs": [],
   "source": []
  }
 ],
 "metadata": {
  "kernelspec": {
   "display_name": "Python 3 (ipykernel)",
   "language": "python",
   "name": "python3"
  },
  "language_info": {
   "codemirror_mode": {
    "name": "ipython",
    "version": 3
   },
   "file_extension": ".py",
   "mimetype": "text/x-python",
   "name": "python",
   "nbconvert_exporter": "python",
   "pygments_lexer": "ipython3",
   "version": "3.11.6"
  }
 },
 "nbformat": 4,
 "nbformat_minor": 5
}
